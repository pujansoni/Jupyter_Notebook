{
 "cells": [
  {
   "cell_type": "code",
   "execution_count": 1,
   "metadata": {},
   "outputs": [
    {
     "name": "stdout",
     "output_type": "stream",
     "text": [
      "A New Hope\n",
      "The Empire Strikes Back\n"
     ]
    }
   ],
   "source": [
    "// Callback functions are those functions that have been passed to another function as an argument\n",
    "// Let's take a look at an example\n",
    "const movies = [\n",
    "{ title: `A New Hope`, body:`After Princess Leia, the leader of the Rebel Alliance, is held hostage by Darth Vader, Luke and Han Solo must free her and destroy the powerful weapon created by the Galactic Empire.`},\n",
    "{ title: `The Empire Strikes Back`, body: `Darth Vader is adamant about turning Luke Skywalker to the dark side. Master Yoda trains Luke to become a Jedi Knight while his friends try to fend off the Imperial fleet.` }]\n",
    "\n",
    "function getMovies(){\n",
    "    setTimeout(() => {\n",
    "        movies.forEach((movie, index) => {\n",
    "            console.log(movie.title)\n",
    "        })\n",
    "    }, 1000);\n",
    "}\n",
    "\n",
    "getMovies();"
   ]
  },
  {
   "cell_type": "code",
   "execution_count": 2,
   "metadata": {},
   "outputs": [
    {
     "name": "stdout",
     "output_type": "stream",
     "text": [
      "A New Hope\n",
      "The Empire Strikes Back\n"
     ]
    }
   ],
   "source": [
    "// Let's create another function called createMovie(). It will be used to add a new movie\n",
    "const movies_1 = [\n",
    "        { title: `A New Hope`, body:`After Princess Leia, the leader of the Rebel Alliance, is held hostage by Darth Vader, Luke and Han Solo must free her and destroy the powerful weapon created by the Galactic Empire.`},\n",
    "        { title: `The Empire Strikes Back`, body: `Darth Vader is adamant about turning Luke Skywalker to the dark side. Master Yoda trains Luke to become a Jedi Knight while his friends try to fend off the Imperial fleet.` }\n",
    "    ]\n",
    "\n",
    "function getMovies(){\n",
    "    setTimeout(() => {\n",
    "        movies_1.forEach((movie, index) => {\n",
    "            console.log(movie.title)\n",
    "        })\n",
    "    }, 1000);\n",
    "}\n",
    "\n",
    "function createMovies(movie){\n",
    "    setTimeout(() => {\n",
    "        movies_1.push(movie)\n",
    "    }, 2000);\n",
    "}\n",
    "\n",
    "getMovies();\n",
    "\n",
    "\n",
    "createMovies({ title: `Return of the Jedi`, body:`Luke Skywalker attempts to bring his father back to the light side of the Force. At the same time, the rebels hatch a plan to destroy the second Death Star.` });\n"
   ]
  },
  {
   "cell_type": "code",
   "execution_count": 3,
   "metadata": {},
   "outputs": [
    {
     "name": "stdout",
     "output_type": "stream",
     "text": [
      "A New Hope\n",
      "The Empire Strikes Back\n",
      "Return of the Jedi\n"
     ]
    }
   ],
   "source": [
    "// The problem here is that we are not getting the third movie on the console. That is because createMovie() takes longer than getMovies(). The createMovies() function took two seconds but getMovies() took only one second\n",
    "// In other words, getMovies() runs before createMovies() and the list of movies is already displayed.\n",
    "// To solve this we can use callbacks\n",
    "// In the createMovies(), pass a function callback and call the function right after the new movies is pushed \n",
    "const movies_2 = [\n",
    "        { title: `A New Hope`, body:`After Princess Leia, the leader of the Rebel Alliance, is held hostage by Darth Vader, Luke and Han Solo must free her and destroy the powerful weapon created by the Galactic Empire.`},\n",
    "        { title: `The Empire Strikes Back`, body: `Darth Vader is adamant about turning Luke Skywalker to the dark side. Master Yoda trains Luke to become a Jedi Knight while his friends try to fend off the Imperial fleet.` }\n",
    "    ]\n",
    "\n",
    "function getMovies(){\n",
    "    setTimeout(() => {\n",
    "        movies_2.forEach((movie, index) => {\n",
    "            console.log(movie.title)\n",
    "        })\n",
    "    }, 1000);\n",
    "}\n",
    "\n",
    "function createMovies(movie, callback){\n",
    "    setTimeout(() => {\n",
    "        movies_2.push(movie);\n",
    "        callback();\n",
    "    }, 2000);\n",
    "}\n",
    "\n",
    "\n",
    "createMovies({ title: `Return of the Jedi`, \n",
    "                body:`Luke Skywalker attempts to bring his father back to the light side of the Force. \n",
    "                At the same time, the rebels hatch a plan to destroy the second Death Star.` }, getMovies);"
   ]
  },
  {
   "cell_type": "code",
   "execution_count": 4,
   "metadata": {},
   "outputs": [
    {
     "name": "stdout",
     "output_type": "stream",
     "text": [
      "A New Hope\n",
      "The Empire Strikes Back\n",
      "Return of the Jedi\n"
     ]
    }
   ],
   "source": [
    "// A promise is a value that may produce a value in the future. That value can either be resolved or unresolved (in some error cases, like a network failure). It works like a real-life promise.\n",
    "\n",
    "// It has three states: fulfilled, rejected, or pending.\n",
    "\n",
    "// Fulfilled: onFulfilled() will be called (for example, resolve() was called).\n",
    "// Rejected: onRejected() will be called (for example,  reject() was called).\n",
    "// Pending: not yet fulfilled or rejected.\n",
    "\n",
    "// Promise takes two parameters, resolve and reject. When something goes wrong, reject is called, or else resolve is called.\n",
    "\n",
    "const movies_3 = [\n",
    "        { title: `A New Hope`, body:`After Princess Leia, the leader of the Rebel Alliance, is held hostage by Darth Vader, Luke and Han Solo must free her and destroy the powerful weapon created by the Galactic Empire.`},\n",
    "        { title: `The Empire Strikes Back`, body: `Darth Vader is adamant about turning Luke Skywalker to the dark side. Master Yoda trains Luke to become a Jedi Knight while his friends try to fend off the Imperial fleet.` }\n",
    "    ]\n",
    "\n",
    "function getMovies(){\n",
    "    setTimeout(() => {\n",
    "        movies_3.forEach((movie, index) => {\n",
    "            console.log(movie.title)\n",
    "        })\n",
    "    }, 1000);\n",
    "}\n",
    "\n",
    "function createMovies(movie){\n",
    "    return new Promise((resolve, reject) => {\n",
    "        setTimeout(() => {\n",
    "            movies_3.push(movie);\n",
    "\n",
    "            const error = false;\n",
    "\n",
    "            if(!error){\n",
    "                resolve();\n",
    "            }\n",
    "            else{\n",
    "                reject('Error: Something went wrong!')\n",
    "            }\n",
    "        }, 2000);\n",
    "    })\n",
    "}\n",
    "\n",
    "createMovies({ title: `Return of the Jedi`, body:`Luke Skywalker attempts to bring his father back to the light side of the Force. At the same time, the rebels hatch a plan to destroy the second Death Star.`}).then(getMovies);\n"
   ]
  },
  {
   "cell_type": "code",
   "execution_count": 5,
   "metadata": {},
   "outputs": [
    {
     "name": "stdout",
     "output_type": "stream",
     "text": [
      "done!\n"
     ]
    }
   ],
   "source": [
    "// If we get an error, it will be something like ‘Error: Something went wrong!’, and if not, the promise will resolve.\n",
    "\n",
    "// Once the promise is resolved, it calls for the .then() keyword and getMovies().\n",
    "\n",
    "// Async means asynchronous. It allows a program to run a function without freezing the entire program. This is done using the Async/Await keyword.\n",
    "\n",
    "// Async/Await makes it easier to write promises. The keyword ‘async’ before a function makes the function return a promise, always. And the keyword await is used inside async functions, which makes the program wait until the Promise resolves.\n",
    "\n",
    "async function example() {\n",
    "\n",
    "  let promise = new Promise((resolve, reject) => {\n",
    "    setTimeout(() => resolve(\"done!\"), 2000)\n",
    "  });\n",
    "\n",
    "  let result = await promise; // wait until the promise resolves (*)\n",
    "\n",
    "  console.log(result); // \"done!\"\n",
    "}\n",
    "\n",
    "example();\n",
    "\n",
    "// The function execution “pauses” at the (*) line and resumes when the promise is fulfilled, with result becoming its result. So the code above shows “done!” in two seconds.\n"
   ]
  },
  {
   "cell_type": "code",
   "execution_count": 6,
   "metadata": {},
   "outputs": [
    {
     "name": "stdout",
     "output_type": "stream",
     "text": [
      "A New Hope\n",
      "The Empire Strikes Back\n",
      "Return of the Jedi\n"
     ]
    }
   ],
   "source": [
    "const movies_4 = [\n",
    "        { title: `A New Hope`, body:`After Princess Leia, the leader of the Rebel Alliance, is held hostage by Darth Vader, Luke and Han Solo must free her and destroy the powerful weapon created by the Galactic Empire.`},\n",
    "        { title: `The Empire Strikes Back`, body: `Darth Vader is adamant about turning Luke Skywalker to the dark side. Master Yoda trains Luke to become a Jedi Knight while his friends try to fend off the Imperial fleet.` }\n",
    "    ]\n",
    "\n",
    "function getMovies(){\n",
    "    setTimeout(() => {\n",
    "        movies_4.forEach((movie, index) => {\n",
    "            console.log(movie.title)\n",
    "        })\n",
    "    }, 1000);\n",
    "}\n",
    "\n",
    "function createMovies(movie){\n",
    "    return new Promise((resolve, reject) => {\n",
    "        setTimeout(() => {\n",
    "            movies_4.push(movie);\n",
    "\n",
    "            const error = false;\n",
    "\n",
    "            if(!error){\n",
    "                resolve();\n",
    "            }\n",
    "            else{\n",
    "                reject('Error: Something went wrong!')\n",
    "            }\n",
    "        }, 2000);\n",
    "    })\n",
    "}\n",
    "\n",
    "async function init(){\n",
    "    await createMovies({ title: `Return of the Jedi`, body:`Luke Skywalker attempts to bring his father back to the light side of the Force. At the same time, the rebels hatch a plan to destroy the second Death Star.`});\n",
    "    \n",
    "    getMovies(); //(*)\n",
    "}\n",
    "\n",
    "init();\n",
    "\n",
    "// In the above example, getMovies() at the (*) line is waiting for createMovies() to be executed in the async function.\n",
    "\n",
    "// In other words, createMovies() is async, so getMovies() will only run after createMovies() is done."
   ]
  },
  {
   "cell_type": "code",
   "execution_count": null,
   "metadata": {},
   "outputs": [],
   "source": []
  }
 ],
 "metadata": {
  "kernelspec": {
   "display_name": "Javascript (Node.js)",
   "language": "javascript",
   "name": "javascript"
  },
  "language_info": {
   "file_extension": ".js",
   "mimetype": "application/javascript",
   "name": "javascript",
   "version": "10.13.0"
  }
 },
 "nbformat": 4,
 "nbformat_minor": 4
}
