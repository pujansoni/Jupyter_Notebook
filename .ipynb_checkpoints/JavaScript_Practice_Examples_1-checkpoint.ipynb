{
 "cells": [
  {
   "cell_type": "code",
   "execution_count": 1,
   "metadata": {},
   "outputs": [
    {
     "name": "stdout",
     "output_type": "stream",
     "text": [
      "olleh\n"
     ]
    }
   ],
   "source": [
    "// Problem: Reversing a String\n",
    "// Explaination: We can solve this problem by creating a new string(initializing it to the blank string \"\") and then interating the string\n",
    "// starting from the last character through the first character and the concatening of each character to the new string. After iterating through\n",
    "// all the characters in the string, you return the new string\n",
    "// Solution: 1\n",
    "function reverseString(str) {\n",
    "    for(var reversedStr=\"\", i=str.length-1; i>=0; i--){\n",
    "        reversedStr += str[i];\n",
    "    }\n",
    "    return reversedStr;\n",
    "}\n",
    "\n",
    "console.log(reverseString(\"hello\"));"
   ]
  },
  {
   "cell_type": "code",
   "execution_count": 2,
   "metadata": {},
   "outputs": [
    {
     "name": "stdout",
     "output_type": "stream",
     "text": [
      "olleh\n"
     ]
    }
   ],
   "source": [
    "// Solution: 2\n",
    "function reverseString1(str){\n",
    "    return str.split(\"\").reverse().join(\"\");\n",
    "}\n",
    "\n",
    "console.log(reverseString1(\"hello\"));"
   ]
  },
  {
   "cell_type": "code",
   "execution_count": 3,
   "metadata": {},
   "outputs": [
    {
     "data": {
      "text/plain": [
       "120"
      ]
     },
     "execution_count": 3,
     "metadata": {},
     "output_type": "execute_result"
    }
   ],
   "source": [
    "// Problem: Factorialize a Number\n",
    "// Explaination:\n",
    "//     Return the factorial of the provided integer.\n",
    "//     If the integer is represented with the letter n, a factorial is the product of all positive integers less than or equal to n.\n",
    "//     Factorials are often represented with the shorthand notation n!\n",
    "//     For example: 5! = 1 * 2 * 3 * 4 * 5 = 120\n",
    "//     Only integers greater than or equal to zero will be supplied to the function.\n",
    "function factorialize(num){\n",
    "    for(var product=1; num>0; num--){\n",
    "        product *= num;\n",
    "    }\n",
    "    return product;\n",
    "}\n",
    "\n",
    "factorialize(5);"
   ]
  },
  {
   "cell_type": "code",
   "execution_count": 4,
   "metadata": {},
   "outputs": [
    {
     "data": {
      "text/plain": [
       "120"
      ]
     },
     "execution_count": 4,
     "metadata": {},
     "output_type": "execute_result"
    }
   ],
   "source": [
    "function factorialize1(num){\n",
    "    if(num===0){\n",
    "        return 1;\n",
    "    }\n",
    "    return num * factorialize1(num-1);\n",
    "}\n",
    "\n",
    "factorialize1(5);"
   ]
  },
  {
   "cell_type": "code",
   "execution_count": 7,
   "metadata": {},
   "outputs": [
    {
     "data": {
      "text/plain": [
       "120"
      ]
     },
     "execution_count": 7,
     "metadata": {},
     "output_type": "execute_result"
    }
   ],
   "source": [
    "// Tail recursion\n",
    "function factorialize2(num, factorial=1){\n",
    "    if(num===0){\n",
    "        return factorial;\n",
    "    } else {\n",
    "        return factorialize2(num - 1, factorial*num);\n",
    "    }\n",
    "}\n",
    "\n",
    "factorialize2(5);"
   ]
  },
  {
   "cell_type": "code",
   "execution_count": 9,
   "metadata": {},
   "outputs": [
    {
     "data": {
      "text/plain": [
       "120"
      ]
     },
     "execution_count": 9,
     "metadata": {},
     "output_type": "execute_result"
    }
   ],
   "source": [
    "// Array's reduce() method to calculate the factorial\n",
    "function factorialize3(num, factorial=1){\n",
    "    return num < 0 ? 1 : new Array(num).fill(undefined).reduce((product, val, index) => product * (index + 1), 1);\n",
    "}\n",
    "\n",
    "factorialize3(5);"
   ]
  },
  {
   "cell_type": "code",
   "execution_count": 10,
   "metadata": {},
   "outputs": [
    {
     "data": {
      "text/plain": [
       "6"
      ]
     },
     "execution_count": 10,
     "metadata": {},
     "output_type": "execute_result"
    }
   ],
   "source": [
    "// Problem: Find the longest word in a string\n",
    "// Explaination: You have to go through each word and figure out which one is the longest and return the length of that word\n",
    "function findLongestWordLength(str){\n",
    "    var words = str.split(' ');\n",
    "    var maxLength = 0;\n",
    "    \n",
    "    for(var i=0; i<words.length; i++){\n",
    "        if(words[i].length > maxLength){\n",
    "            maxLength = words[i].length;\n",
    "        }\n",
    "    }\n",
    "    \n",
    "    return maxLength;\n",
    "}\n",
    "\n",
    "findLongestWordLength(\"The quick brown fox jumped over the lazy dog\");"
   ]
  },
  {
   "cell_type": "code",
   "execution_count": 11,
   "metadata": {},
   "outputs": [
    {
     "data": {
      "text/plain": [
       "6"
      ]
     },
     "execution_count": 11,
     "metadata": {},
     "output_type": "execute_result"
    }
   ],
   "source": [
    "// Using the reduce() function\n",
    "function findLongestWordLength1(str){\n",
    "    return str.split(' ').reduce(function(longest, word){\n",
    "        return Math.max(longest, word.length)\n",
    "    }, 0);\n",
    "}\n",
    "\n",
    "findLongestWordLength1(\"The quick brown fox jumped over the lazy dog\");"
   ]
  },
  {
   "cell_type": "code",
   "execution_count": 18,
   "metadata": {},
   "outputs": [
    {
     "data": {
      "text/plain": [
       "6"
      ]
     },
     "execution_count": 18,
     "metadata": {},
     "output_type": "execute_result"
    }
   ],
   "source": [
    "// Using the map() method\n",
    "function findLongestWordLength2(str){\n",
    "    return Math.max(...str.split(\" \").map(word=>word.length));\n",
    "}\n",
    "\n",
    "findLongestWordLength2(\"The quick brown fox jumped over the lazy dog\");"
   ]
  },
  {
   "cell_type": "code",
   "execution_count": null,
   "metadata": {},
   "outputs": [],
   "source": []
  }
 ],
 "metadata": {
  "kernelspec": {
   "display_name": "Javascript (Node.js)",
   "language": "javascript",
   "name": "javascript"
  },
  "language_info": {
   "file_extension": ".js",
   "mimetype": "application/javascript",
   "name": "javascript",
   "version": "10.13.0"
  }
 },
 "nbformat": 4,
 "nbformat_minor": 4
}
