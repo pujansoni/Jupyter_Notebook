{
 "cells": [
  {
   "cell_type": "code",
   "execution_count": 14,
   "metadata": {},
   "outputs": [
    {
     "name": "stdout",
     "output_type": "stream",
     "text": [
      "January\n",
      "February\n",
      "March\n",
      "April\n"
     ]
    }
   ],
   "source": [
    "// The Array.forEach method\n",
    "// Syntax: Array.forEach(callback(currentValue [, index [, array]])[, thisArg]);\n",
    "// The forEach method executes a provided function once for every element in the array.\n",
    "let months_3 = ['January', 'February', 'March', 'April'];\n",
    "\n",
    "months.forEach(function(month) {\n",
    "  console.log(month);\n",
    "});"
   ]
  },
  {
   "cell_type": "code",
   "execution_count": 17,
   "metadata": {},
   "outputs": [
    {
     "name": "stdout",
     "output_type": "stream",
     "text": [
      "returnedValue:  undefined\n"
     ]
    }
   ],
   "source": [
    "// The thing you need to keep in mind is that the forEach method does not return any value.\n",
    "let months_4 = ['January', 'February', 'March', 'April'];\n",
    "let returnedValue_3 = months_4.forEach(function (month) {\n",
    "  return month;\n",
    "});\n",
    "\n",
    "console.log('returnedValue: ', returnedValue_3); // undefined\n",
    "// Note that forEach is only used to loop through the array and perform some processing or logging. It does not return any value, even if you explicitly return a value from the callback function (this means that the returned value comes as undefined in the above example).\n"
   ]
  },
  {
   "cell_type": "code",
   "execution_count": 21,
   "metadata": {},
   "outputs": [
    {
     "name": "stdout",
     "output_type": "stream",
     "text": [
      "January 0 [ 'January', 'February', 'March', 'April' ]\n",
      "February 1 [ 'January', 'February', 'March', 'April' ]\n",
      "March 2 [ 'January', 'February', 'March', 'April' ]\n",
      "April 3 [ 'January', 'February', 'March', 'April' ]\n"
     ]
    }
   ],
   "source": [
    "// In all the above examples, we have used only the first parameter of the callback function. But the callback function also receives two additional parameters, which are:\n",
    "// * index - the index of the element which is currently being iterated\n",
    "// * array - original array which we're looping over\n",
    "let months_6 = ['January', 'February', 'March', 'April'];\n",
    "\n",
    "months.forEach(function(month_6, index, array) {\n",
    "  console.log(month_6, index, array);\n",
    "});"
   ]
  },
  {
   "cell_type": "code",
   "execution_count": 22,
   "metadata": {},
   "outputs": [],
   "source": [
    "// Advantages of using forEach instead of a for loop:\n",
    "// * Using a forEach loop makes your code shorter and easier to understand\n",
    "// * When using a forEach loop, we don't need to keep track of how many elements are available in the array. So it avoids the creation of an extra counter variable.\n",
    "// * Using a forEach loop makes code easy to debug because there are no extra variables for looping through the array\n",
    "// * The forEach loop automatically stops when all the elements of the array are finished iterating."
   ]
  },
  {
   "cell_type": "code",
   "execution_count": 23,
   "metadata": {},
   "outputs": [
    {
     "name": "stdout",
     "output_type": "stream",
     "text": [
      "[ 'JANUARY', 'FEBRUARY', 'MARCH', 'APRIL' ]\n"
     ]
    }
   ],
   "source": [
    "// The Array map method is the most useful and widely used array method among all other methods.\n",
    "// Syntax: \n",
    "//     Array.map(function callback(currentValue[, index[, array]]) {\n",
    "//         // Return element for new_array\n",
    "//     }[, thisArg])\n",
    "// The map method executes a provided function once for every element in the array and it returns a new transformed array.\n",
    "const months_7 = ['January', 'February', 'March', 'April'];\n",
    "const transformedArray = months_7.map(function (month) {\n",
    "  return month.toUpperCase();\n",
    "});\n",
    "\n",
    "console.log(transformedArray);\n",
    "// Using map helps to avoid creating a separate converted array beforehand for storing the converted elements. So it saves memory space and also the code looks much cleaner using array map\n",
    "// Note that the map method returns a new array that is of the exact same length as the original array.\n",
    "// The difference between the forEach and map methods is that forEach is only used for looping and does not return anything back. On the other hand, the map method returns a new array that is of the exact same length as the original array.\n",
    "// Also, note that map does not change the original array but returns a new array.\n"
   ]
  },
  {
   "cell_type": "code",
   "execution_count": 24,
   "metadata": {},
   "outputs": [
    {
     "name": "stdout",
     "output_type": "stream",
     "text": [
      "[ 'Mike Sheridan', 'Tim Lee', 'John Carte' ]\n"
     ]
    }
   ],
   "source": [
    "const users = [\n",
    "  {\n",
    "    first_name: 'Mike',\n",
    "    last_name: 'Sheridan'\n",
    "  },\n",
    "  {\n",
    "    first_name: 'Tim',\n",
    "    last_name: 'Lee'\n",
    "  },\n",
    "  {\n",
    "    first_name: 'John',\n",
    "    last_name: 'Carte'\n",
    "  }\n",
    "];\n",
    "\n",
    "const usersList = users.map(function (user) {\n",
    "  return user.first_name + ' ' + user.last_name;\n",
    "});\n",
    "\n",
    "console.log(usersList);\n",
    "// Here, by using the array of objects and map methods, we're easily generating a single array with first and last name concatenated."
   ]
  },
  {
   "cell_type": "code",
   "execution_count": 26,
   "metadata": {},
   "outputs": [],
   "source": [
    "// Advantages of using the map method\n",
    "// It helps quickly generate a new array without changing the original array\n",
    "// It helps generate an array with dynamic content based on each element\n",
    "// It allows us to quickly extract any element of the array\n",
    "// It generates an array with the exact same length as the original array"
   ]
  },
  {
   "cell_type": "code",
   "execution_count": null,
   "metadata": {},
   "outputs": [],
   "source": []
  }
 ],
 "metadata": {
  "kernelspec": {
   "display_name": "Javascript (Node.js)",
   "language": "javascript",
   "name": "javascript"
  },
  "language_info": {
   "file_extension": ".js",
   "mimetype": "application/javascript",
   "name": "javascript",
   "version": "10.13.0"
  }
 },
 "nbformat": 4,
 "nbformat_minor": 4
}
