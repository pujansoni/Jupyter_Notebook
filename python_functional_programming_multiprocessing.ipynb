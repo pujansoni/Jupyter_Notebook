{
 "cells": [
  {
   "cell_type": "code",
   "execution_count": null,
   "metadata": {},
   "outputs": [],
   "source": [
    "import collections\n",
    "import multiprocessing\n",
    "import time\n",
    "from pprint import pprint\n",
    "\n",
    "Scientist = collections.namedtuple('Scientist', [\n",
    "    'name',\n",
    "    'field',\n",
    "    'born',\n",
    "    'nobel'\n",
    "])\n",
    "\n",
    "scientists = (\n",
    "    Scientist(name='Ada Lovelace', field='math', born=1815, nobel=False),\n",
    "    Scientist(name='Emmy Noether', field='math', born=1882, nobel=False),\n",
    "    Scientist(name='Marie Curie', field='physics', born=1867, nobel=True),\n",
    "    Scientist(name='Tu Youyou', field='chemistry', born=1930, nobel=True),\n",
    "    Scientist(name='Ada Yonath', field='chemistry', born=1939, nobel=True),\n",
    "    Scientist(name='Vera Rubin', field='astronomy', born=1928, nobel=False),\n",
    "    Scientist(name='Sally Ride', field='physics', born=1951, nobel=False),\n",
    ")\n",
    "\n",
    "pprint(scientists)\n",
    "print()\n",
    "\n",
    "def transform(x):\n",
    "    print(f'Processing record {x.name}')\n",
    "    time.sleep(1)\n",
    "    result = {'name': x.name, 'age': 2020 - x.born}\n",
    "    print(f'Done processing record {x.name}')\n",
    "    return result\n",
    "\n",
    "start = time.time()\n",
    "\n",
    "pool = multiprocessing.Pool()\n",
    "result = pool.map(transform, scientists)\n",
    "\n",
    "# result = tuple(map(\n",
    "#     transform,\n",
    "#     scientists\n",
    "# ))\n",
    "\n",
    "end = time.time()\n",
    "\n",
    "print(f'\\nTime to complete: {end - start:.2f}s\\n')\n",
    "pprint(result)"
   ]
  },
  {
   "cell_type": "code",
   "execution_count": null,
   "metadata": {},
   "outputs": [],
   "source": []
  }
 ],
 "metadata": {
  "kernelspec": {
   "display_name": "Python 3",
   "language": "python",
   "name": "python3"
  },
  "language_info": {
   "codemirror_mode": {
    "name": "ipython",
    "version": 3
   },
   "file_extension": ".py",
   "mimetype": "text/x-python",
   "name": "python",
   "nbconvert_exporter": "python",
   "pygments_lexer": "ipython3",
   "version": "3.7.6"
  }
 },
 "nbformat": 4,
 "nbformat_minor": 4
}
