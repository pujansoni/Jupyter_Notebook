{
 "cells": [
  {
   "cell_type": "code",
   "execution_count": 2,
   "metadata": {},
   "outputs": [
    {
     "name": "stdout",
     "output_type": "stream",
     "text": [
      "             Name Hire Date   Salary  Sick Days remaining\n",
      "0  Graham Chapman  03/15/14  50000.0                   10\n",
      "1     John Cleese  06/01/15  65000.0                    8\n",
      "2       Eric Idle  05/12/14  45000.0                   10\n",
      "3     Terry Jones  11/01/13  70000.0                    3\n",
      "4   Terry Gilliam  08/12/14  48000.0                    7\n",
      "5   Michael Palin  05/23/13  66000.0                    8\n"
     ]
    }
   ],
   "source": [
    "import pandas\n",
    "df = pandas.read_csv('hrdata.csv')\n",
    "print(df)"
   ]
  },
  {
   "cell_type": "code",
   "execution_count": 5,
   "metadata": {},
   "outputs": [
    {
     "name": "stdout",
     "output_type": "stream",
     "text": [
      "<class 'str'>\n"
     ]
    }
   ],
   "source": [
    "# Further, if you look at the data types of our columns , you’ll see pandas has properly converted the Salary and Sick Days remaining columns to numbers, but the Hire Date column is still a String. This is easily confirmed in interactive mode:\n",
    "print(type(df['Hire Date'][0]))"
   ]
  },
  {
   "cell_type": "code",
   "execution_count": 7,
   "metadata": {},
   "outputs": [
    {
     "name": "stdout",
     "output_type": "stream",
     "text": [
      "               Hire Date   Salary  Sick Days remaining\n",
      "Name                                                  \n",
      "Graham Chapman  03/15/14  50000.0                   10\n",
      "John Cleese     06/01/15  65000.0                    8\n",
      "Eric Idle       05/12/14  45000.0                   10\n",
      "Terry Jones     11/01/13  70000.0                    3\n",
      "Terry Gilliam   08/12/14  48000.0                    7\n",
      "Michael Palin   05/23/13  66000.0                    8\n"
     ]
    }
   ],
   "source": [
    "# Let’s tackle these issues one at a time. To use a different column as the DataFrame index, add the index_col optional parameter:\n",
    "import pandas\n",
    "df = pandas.read_csv('hrdata.csv', index_col='Name')\n",
    "print(df)"
   ]
  },
  {
   "cell_type": "code",
   "execution_count": 9,
   "metadata": {},
   "outputs": [
    {
     "name": "stdout",
     "output_type": "stream",
     "text": [
      "                Hire Date   Salary  Sick Days remaining\n",
      "Name                                                   \n",
      "Graham Chapman 2014-03-15  50000.0                   10\n",
      "John Cleese    2015-06-01  65000.0                    8\n",
      "Eric Idle      2014-05-12  45000.0                   10\n",
      "Terry Jones    2013-11-01  70000.0                    3\n",
      "Terry Gilliam  2014-08-12  48000.0                    7\n",
      "Michael Palin  2013-05-23  66000.0                    8\n"
     ]
    }
   ],
   "source": [
    "# Next, let’s fix the data type of the Hire Date field. You can force pandas to read data as a date with the parse_dates optional parameter, which is defined as a list of column names to treat as dates:\n",
    "import pandas\n",
    "df = pandas.read_csv('hrdata.csv', index_col='Name', parse_dates=['Hire Date'])\n",
    "print(df)\n"
   ]
  },
  {
   "cell_type": "code",
   "execution_count": 11,
   "metadata": {},
   "outputs": [
    {
     "name": "stdout",
     "output_type": "stream",
     "text": [
      "<class 'pandas._libs.tslibs.timestamps.Timestamp'>\n"
     ]
    }
   ],
   "source": [
    "# The date is now formatted properly, which is easily confirmed in interactive mode:\n",
    "print(type(df['Hire Date'][0]))"
   ]
  },
  {
   "cell_type": "code",
   "execution_count": 12,
   "metadata": {},
   "outputs": [
    {
     "name": "stdout",
     "output_type": "stream",
     "text": [
      "                    Hired   Salary  Sick Days\n",
      "Employee                                     \n",
      "Graham Chapman 2014-03-15  50000.0         10\n",
      "John Cleese    2015-06-01  65000.0          8\n",
      "Eric Idle      2014-05-12  45000.0         10\n",
      "Terry Jones    2013-11-01  70000.0          3\n",
      "Terry Gilliam  2014-08-12  48000.0          7\n",
      "Michael Palin  2013-05-23  66000.0          8\n"
     ]
    }
   ],
   "source": [
    "# If your CSV files doesn’t have column names in the first line, you can use the names optional parameter to provide a list of column names. You can also use this if you want to override the column names provided in the first line. In this case, you must also tell pandas.read_csv() to ignore existing column names using the header=0 optional parameter:import pandas\n",
    "df = pandas.read_csv('hrdata.csv', \n",
    "            index_col='Employee', \n",
    "            parse_dates=['Hired'], \n",
    "            header=0, \n",
    "            names=['Employee', 'Hired','Salary', 'Sick Days'])\n",
    "print(df)"
   ]
  },
  {
   "cell_type": "code",
   "execution_count": null,
   "metadata": {},
   "outputs": [],
   "source": []
  }
 ],
 "metadata": {
  "kernelspec": {
   "display_name": "Python 3",
   "language": "python",
   "name": "python3"
  },
  "language_info": {
   "codemirror_mode": {
    "name": "ipython",
    "version": 3
   },
   "file_extension": ".py",
   "mimetype": "text/x-python",
   "name": "python",
   "nbconvert_exporter": "python",
   "pygments_lexer": "ipython3",
   "version": "3.7.6"
  }
 },
 "nbformat": 4,
 "nbformat_minor": 4
}
