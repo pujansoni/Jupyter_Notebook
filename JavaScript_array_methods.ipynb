{
 "cells": [
  {
   "cell_type": "code",
   "execution_count": 14,
   "metadata": {},
   "outputs": [
    {
     "name": "stdout",
     "output_type": "stream",
     "text": [
      "January\n",
      "February\n",
      "March\n",
      "April\n"
     ]
    }
   ],
   "source": [
    "// The Array.forEach method\n",
    "// Syntax: Array.forEach(callback(currentValue [, index [, array]])[, thisArg]);\n",
    "// The forEach method executes a provided function once for every element in the array.\n",
    "let months_3 = ['January', 'February', 'March', 'April'];\n",
    "\n",
    "months.forEach(function(month) {\n",
    "  console.log(month);\n",
    "});"
   ]
  },
  {
   "cell_type": "code",
   "execution_count": 17,
   "metadata": {},
   "outputs": [
    {
     "name": "stdout",
     "output_type": "stream",
     "text": [
      "returnedValue:  undefined\n"
     ]
    }
   ],
   "source": [
    "// The thing you need to keep in mind is that the forEach method does not return any value.\n",
    "let months_4 = ['January', 'February', 'March', 'April'];\n",
    "let returnedValue_3 = months_4.forEach(function (month) {\n",
    "  return month;\n",
    "});\n",
    "\n",
    "console.log('returnedValue: ', returnedValue_3); // undefined\n",
    "// Note that forEach is only used to loop through the array and perform some processing or logging. It does not return any value, even if you explicitly return a value from the callback function (this means that the returned value comes as undefined in the above example).\n"
   ]
  },
  {
   "cell_type": "code",
   "execution_count": 21,
   "metadata": {},
   "outputs": [
    {
     "name": "stdout",
     "output_type": "stream",
     "text": [
      "January 0 [ 'January', 'February', 'March', 'April' ]\n",
      "February 1 [ 'January', 'February', 'March', 'April' ]\n",
      "March 2 [ 'January', 'February', 'March', 'April' ]\n",
      "April 3 [ 'January', 'February', 'March', 'April' ]\n"
     ]
    }
   ],
   "source": [
    "// In all the above examples, we have used only the first parameter of the callback function. But the callback function also receives two additional parameters, which are:\n",
    "// * index - the index of the element which is currently being iterated\n",
    "// * array - original array which we're looping over\n",
    "let months_6 = ['January', 'February', 'March', 'April'];\n",
    "\n",
    "months.forEach(function(month_6, index, array) {\n",
    "  console.log(month_6, index, array);\n",
    "});"
   ]
  },
  {
   "cell_type": "code",
   "execution_count": 22,
   "metadata": {},
   "outputs": [],
   "source": [
    "// Advantages of using forEach instead of a for loop:\n",
    "// * Using a forEach loop makes your code shorter and easier to understand\n",
    "// * When using a forEach loop, we don't need to keep track of how many elements are available in the array. So it avoids the creation of an extra counter variable.\n",
    "// * Using a forEach loop makes code easy to debug because there are no extra variables for looping through the array\n",
    "// * The forEach loop automatically stops when all the elements of the array are finished iterating."
   ]
  },
  {
   "cell_type": "code",
   "execution_count": 23,
   "metadata": {},
   "outputs": [
    {
     "name": "stdout",
     "output_type": "stream",
     "text": [
      "[ 'JANUARY', 'FEBRUARY', 'MARCH', 'APRIL' ]\n"
     ]
    }
   ],
   "source": [
    "// The Array map method is the most useful and widely used array method among all other methods.\n",
    "// Syntax: \n",
    "//     Array.map(function callback(currentValue[, index[, array]]) {\n",
    "//         // Return element for new_array\n",
    "//     }[, thisArg])\n",
    "// The map method executes a provided function once for every element in the array and it returns a new transformed array.\n",
    "const months_7 = ['January', 'February', 'March', 'April'];\n",
    "const transformedArray = months_7.map(function (month) {\n",
    "  return month.toUpperCase();\n",
    "});\n",
    "\n",
    "console.log(transformedArray);\n",
    "// Using map helps to avoid creating a separate converted array beforehand for storing the converted elements. So it saves memory space and also the code looks much cleaner using array map\n",
    "// Note that the map method returns a new array that is of the exact same length as the original array.\n",
    "// The difference between the forEach and map methods is that forEach is only used for looping and does not return anything back. On the other hand, the map method returns a new array that is of the exact same length as the original array.\n",
    "// Also, note that map does not change the original array but returns a new array.\n"
   ]
  },
  {
   "cell_type": "code",
   "execution_count": 24,
   "metadata": {},
   "outputs": [
    {
     "name": "stdout",
     "output_type": "stream",
     "text": [
      "[ 'Mike Sheridan', 'Tim Lee', 'John Carte' ]\n"
     ]
    }
   ],
   "source": [
    "const users = [\n",
    "  {\n",
    "    first_name: 'Mike',\n",
    "    last_name: 'Sheridan'\n",
    "  },\n",
    "  {\n",
    "    first_name: 'Tim',\n",
    "    last_name: 'Lee'\n",
    "  },\n",
    "  {\n",
    "    first_name: 'John',\n",
    "    last_name: 'Carte'\n",
    "  }\n",
    "];\n",
    "\n",
    "const usersList = users.map(function (user) {\n",
    "  return user.first_name + ' ' + user.last_name;\n",
    "});\n",
    "\n",
    "console.log(usersList);\n",
    "// Here, by using the array of objects and map methods, we're easily generating a single array with first and last name concatenated."
   ]
  },
  {
   "cell_type": "code",
   "execution_count": 26,
   "metadata": {},
   "outputs": [],
   "source": [
    "// Advantages of using the map method\n",
    "// It helps quickly generate a new array without changing the original array\n",
    "// It helps generate an array with dynamic content based on each element\n",
    "// It allows us to quickly extract any element of the array\n",
    "// It generates an array with the exact same length as the original array"
   ]
  },
  {
   "cell_type": "code",
   "execution_count": 28,
   "metadata": {},
   "outputs": [
    {
     "name": "stdout",
     "output_type": "stream",
     "text": [
      "{ name: 'John Cena', age: 34 }\n"
     ]
    }
   ],
   "source": [
    "// The Array.find method has the following syntax:\n",
    "// Syntax: Array.find(callback(element[, index[, array]])[, thisArg])\n",
    "// The find method returns the value of the first element in the array that satisfies the provided test condition.\n",
    "// The find method takes a callback function as the first argument and executes the callback function for every element of the array. Each array element value is passed as the first parameter to the callback function.\n",
    "\n",
    "// Suppose, we have a list of employees like this:\n",
    "const employees = [\n",
    " { name: \"David Carlson\", age: 30 },\n",
    " { name: \"John Cena\", age: 34 },\n",
    " { name: \"Mike Sheridan\", age: 25 },\n",
    " { name: \"John Carte\", age: 50 }\n",
    "];\n",
    "\n",
    "// and we want to get the record for the employee whose name is John. In this case, we can use the find method as shown below:\n",
    "const employee = employees.find(function (employee) {\n",
    "  return employee.name.indexOf('John') > -1;\n",
    "});\n",
    "\n",
    "console.log(employee);\n",
    "\n",
    "// Advantages of using the find method\n",
    "// It allows us to quickly find any element without writing a lot of code\n",
    "// It stops looping as soon as it finds a match so there is no need for an extra break statement"
   ]
  },
  {
   "cell_type": "code",
   "execution_count": 29,
   "metadata": {},
   "outputs": [
    {
     "name": "stdout",
     "output_type": "stream",
     "text": [
      "1\n"
     ]
    }
   ],
   "source": [
    "// The Array.findIndex Method has the following syntax:\n",
    "// Array.findIndex(callback(element[, index[, array]])[, thisArg])\n",
    "// The findIndex method returns the index of the first element in the array that satisfies the provided test condition. Otherwise, it returns -1, indicating that no element passed the test.\n",
    "const employees_1 = [\n",
    "  { name: 'David Carlson', age: 30 },\n",
    "  { name: 'John Cena', age: 34 },\n",
    "  { name: 'Mike Sheridan', age: 25 },\n",
    "  { name: 'John Carte', age: 50 }\n",
    "];\n",
    "\n",
    "const index = employees_1.findIndex(function (employee) {\n",
    "  return employee.name.indexOf('John') > -1;\n",
    "});\n",
    "\n",
    "console.log(index);\n",
    "// Advantages of using the findIndex method\n",
    "// It allows us to quickly find the index of an element without writing a lot of code\n",
    "// It stops looping as soon as it finds a match so there is no need for an extra break statement\n",
    "// We can find the index using the array find method also, but using findIndex makes it easy and avoids creating extra variables to store the index"
   ]
  },
  {
   "cell_type": "code",
   "execution_count": 30,
   "metadata": {},
   "outputs": [
    {
     "name": "stdout",
     "output_type": "stream",
     "text": [
      "[ { name: 'John Cena', age: 34 },\n",
      "  { name: 'John Carte', age: 50 } ]\n"
     ]
    }
   ],
   "source": [
    "// The Array.filter method has the following syntax:\n",
    "// Array.filter(callback(element[, index[, array]])[, thisArg])\n",
    "// The filter method returns a new array with all the elements that satisfy the provided test condition.\n",
    "// The filter method takes a callback function as the first argument and executes the callback function for every element of the array. Each array element value is passed as the first parameter to the callback function.\n",
    "const employees_2 = [\n",
    "  { name: 'David Carlson', age: 30 },\n",
    "  { name: 'John Cena', age: 34 },\n",
    "  { name: 'Mike Sheridan', age: 25 },\n",
    "  { name: 'John Carte', age: 50 }\n",
    "];\n",
    "\n",
    "const employee_filtered = employees_2.filter(function (employee) {\n",
    "  return employee.name.indexOf('John') > -1;\n",
    "});\n",
    "\n",
    "console.log(employee_filtered); // [ { name: \"John Cena\", age: 34 }, { name: \"John Carte\", age: 50 }]\n",
    "// As can be seen in the above code, using filter helps to find all the elements from the array that match the specified test condition.\n",
    "// So using filter does not stop when it finds a particular match but keeps checking for other elements in the array that match the condition. Then it returns all the matching elements from the array.\n",
    "// The main difference between find and filter is that find only returns the first matching element of the array, but using filter returns all the matching elements from the array.\n",
    "// Note that the filter method always returns an array. If no element passes the test condition, an empty array will be returned.\n",
    "\n",
    "// Advantages of using the filter method\n",
    "// It allows us to quickly find all the matching elements from the array\n",
    "// It always returns an array even if there is no match, so it avoids writing extra if conditions\n",
    "// It avoids the need of creating an extra variable to store the filtered elements"
   ]
  },
  {
   "cell_type": "code",
   "execution_count": 31,
   "metadata": {},
   "outputs": [
    {
     "name": "stdout",
     "output_type": "stream",
     "text": [
      "false\n",
      "true\n"
     ]
    }
   ],
   "source": [
    "// The Array.every method has the following syntax:\n",
    "// Array.every(callback(element[, index[, array]])[, thisArg])\n",
    "// The every method tests whether all elements in the array pass the provided test conditions and returns a boolean true or false value.\n",
    "// Suppose we have an array of numbers and we want to check if every element of the array is a positive number. We can use the every method to achieve it.\n",
    "let numbers = [10, -30, 20, 50];\n",
    "\n",
    "let allPositive = numbers.every(function (number) {\n",
    "  return number > 0;\n",
    "});\n",
    "console.log(allPositive); // false \n",
    "\n",
    "numbers = [10, 30, 20, 50];\n",
    "\n",
    "allPositive = numbers.every(function (number) {\n",
    "  return number > 0;\n",
    "});\n",
    "console.log(allPositive); // true"
   ]
  },
  {
   "cell_type": "code",
   "execution_count": 32,
   "metadata": {},
   "outputs": [
    {
     "name": "stdout",
     "output_type": "stream",
     "text": [
      "true\n",
      "false\n"
     ]
    }
   ],
   "source": [
    "// The Array.some method has the following syntax:\n",
    "// Array.some(callback(element[, index[, array]])[, thisArg]\n",
    "// The some method tests whether at least one element in the array passes the test condition given by the provided function and returns a boolean true or false value.\n",
    "// It returns true once it finds the first match and returns false if there is no match.\n",
    "// Suppose we have an array of numbers and we want to check if the array contains at least one positive element. We can use the some method to achieve it.\n",
    "let numbers_1 = [-30, 40, 20, 50];\n",
    "\n",
    "let containsPositive = numbers_1.some(function (number) {\n",
    "  return number > 0;\n",
    "});\n",
    "console.log(containsPositive); // true \n",
    "\n",
    "numbers_1 = [-10, -30, -20, -50];\n",
    "\n",
    "containsPositive = numbers_1.every(function (number) {\n",
    "  return number > 0;\n",
    "});\n",
    "console.log(containsPositive); // false"
   ]
  },
  {
   "cell_type": "code",
   "execution_count": 37,
   "metadata": {},
   "outputs": [],
   "source": [
    "// Some method example 1:\n",
    "// Let's say we have a list of employees and we want to check if a particular employee is present in that array or not. We also want to get the index position of that employee if the employee is found.\n",
    "\n",
    "// So instead of using the find and findIndex methods separately, we can use the some method to do both of these.\n",
    "\n",
    "// const employees_13 = [\n",
    "//   { name: 'David Carlson', age: 30 },\n",
    "//   { name: 'John Cena', age: 34 },\n",
    "//   { name: 'Mike Sheridon', age: 25 },\n",
    "//   { name: 'John Carte', age: 50 }\n",
    "// ];\n",
    "\n",
    "// let indexValue1 = -1;\n",
    "// const employee_14 = employees_13.some(function (employee, index) {\n",
    "//   const isFound = employee_14.name.indexOf('John') > -1;\n",
    "//   if (isFound) {\n",
    "//     indexValue1 = index;\n",
    "//   }\n",
    "//   return isFound;\n",
    "// });\n",
    "\n",
    "// console.log(employee_14, indexValue1);"
   ]
  },
  {
   "cell_type": "code",
   "execution_count": 38,
   "metadata": {},
   "outputs": [],
   "source": [
    "// The array forEach, map, and filter methods run from start to finish until all of the elements of the array are processed. There is no way of stopping of breaking out of the loop, once a particular element is found.\n",
    "\n",
    "// In such cases, we can use the array some method. The map, forEach and some method takes the same parameters in the callback function:\n",
    "\n",
    "// The first parameter is the actual value\n",
    "// The second parameter is the index\n",
    "// The third parameter is the original array\n",
    "// The some method stops looping through the array once it finds a particular match as can be seen in the above example 1.\n",
    "\n",
    "// Advantages of using the some method\n",
    "// It allows us to quickly check if some of the elements match certain criteria without writing a lot of code\n",
    "// It allows us to quickly break out of the loop, which was not possible with other looping methods seen above"
   ]
  },
  {
   "cell_type": "code",
   "execution_count": 39,
   "metadata": {},
   "outputs": [
    {
     "name": "stdout",
     "output_type": "stream",
     "text": [
      "15\n"
     ]
    }
   ],
   "source": [
    "// The Array.reduce Method\n",
    "// The Array.reduce method has the following syntax:\n",
    "// Array.reduce(callback(accumulator, currentValue[, index[, array]])[, initialValue])\n",
    "// The reduce method executes a reducer function (that you provide) on each element of the array, resulting in a single output value.\n",
    "// Note that the output of the reduce method is always a single value. It can be an object, a number, a string, an array, and so on. It depends on what you want the output of reduce method to generate but it's always a single value.\n",
    "// Suppose that you want to find the sum of all the numbers in the array. You can use the reduce method for that.\n",
    "const numbers_10 = [1, 2, 3, 4, 5];\n",
    "\n",
    "const sum = numbers_10.reduce(function(accumulator, number) {\n",
    "  return accumulator + number; \n",
    "}, 0);\n",
    "\n",
    "console.log(sum); // 15\n",
    "// The reduce method accepts a callback function that receives accumulator, number, index and array as the values. In the above code, we’re using only accumulator and number.\n",
    "\n",
    "// The accumulator will contain the initialValue to be used for the array. The initialValue decides the return type of the data returned by the reduce method.\n",
    "\n",
    "// The number is the second parameter to the callback function that will contain the array element during each iteration of the loop.\n",
    "\n",
    "// In the above code, we have provided 0 as the initialValue for the accumulator. So the first time the callback function executes, the accumulator + number will be 0 + 1 = 1 and we're returning back the value 1.\n",
    "\n",
    "// The next time the callback function runs, accumulator + number will be 1 + 2 = 3 (1 here is the previous value returned in the last iteration and 2 is the next element from the array).\n",
    "\n",
    "// Then, the next time the callback function runs, accumulator + number will be\n",
    "// 3 + 3 = 6(the first 3 here is the previous value returned in the last iteration and the next 3 is the next element from the array) and it will continue this way until all the elements in the numbers array are not iterated.\n",
    "\n",
    "// So the accumulator will retain the value of the last operation just like a static variable."
   ]
  },
  {
   "cell_type": "code",
   "execution_count": 40,
   "metadata": {},
   "outputs": [
    {
     "name": "stdout",
     "output_type": "stream",
     "text": [
      "15\n"
     ]
    }
   ],
   "source": [
    "// In the above code, initialValue of 0 is not required because all the elements of the array are integers.\n",
    "\n",
    "// So the below code will also work:\n",
    "\n",
    "const numbers_11 = [1, 2, 3, 4, 5];\n",
    "\n",
    "const sum_1 = numbers_11.reduce(function (accumulator, number) {\n",
    "  return accumulator + number;\n",
    "});\n",
    "\n",
    "console.log(sum_1); // 15"
   ]
  },
  {
   "cell_type": "code",
   "execution_count": 41,
   "metadata": {},
   "outputs": [
    {
     "name": "stdout",
     "output_type": "stream",
     "text": [
      "40\n"
     ]
    }
   ],
   "source": [
    "// Here, the accumulator will contain the first element of the array and number will contain the next element of the array ( 1 + 2 = 3 during the first iteration and then 3 + 3 = 6 during the next iteration, and so on).\n",
    "\n",
    "// But it’s always good to specify the initialValue of accumulator as it makes it easy to understand the return type of the reduce method and get the correct type of data back.\n",
    "\n",
    "// Take a look at the below code:\n",
    "\n",
    "const numbers_12 = [1, 2, 3, 4, 5];\n",
    "\n",
    "const doublesSum = numbers_12.reduce(function (accumulator, number) {\n",
    "  return accumulator + number * 2;\n",
    "}, 10);\n",
    "\n",
    "console.log(doublesSum); // 40\n",
    "// Here, we’re multiplying each element of the array by 2. We have provided an initialValue of 10 to the accumulator so 10 will be added to the final result\n",
    "// Advantages of using the reduce method\n",
    "// Using reduce allows us to generate any type of simple or complex data based on the array\n",
    "// It remembers the previously returns data from the loop so helps us avoid creating a global variable to store the previous value"
   ]
  },
  {
   "cell_type": "code",
   "execution_count": null,
   "metadata": {},
   "outputs": [],
   "source": []
  }
 ],
 "metadata": {
  "kernelspec": {
   "display_name": "Javascript (Node.js)",
   "language": "javascript",
   "name": "javascript"
  },
  "language_info": {
   "file_extension": ".js",
   "mimetype": "application/javascript",
   "name": "javascript",
   "version": "10.13.0"
  }
 },
 "nbformat": 4,
 "nbformat_minor": 4
}
