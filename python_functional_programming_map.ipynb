{
 "cells": [
  {
   "cell_type": "code",
   "execution_count": 1,
   "metadata": {},
   "outputs": [
    {
     "name": "stdout",
     "output_type": "stream",
     "text": [
      "(Scientist(name='Ada Lovelace', field='math', born=1815, nobel=False),\n",
      " Scientist(name='Emmy Noether', field='math', born=1882, nobel=False),\n",
      " Scientist(name='Marie Curie', field='physics', born=1867, nobel=True),\n",
      " Scientist(name='Tu Youyou', field='chemistry', born=1930, nobel=True),\n",
      " Scientist(name='Ada Yonath', field='chemistry', born=1939, nobel=True),\n",
      " Scientist(name='Vera Rubin', field='astronomy', born=1928, nobel=False),\n",
      " Scientist(name='Sally Ride', field='physics', born=1951, nobel=False))\n"
     ]
    }
   ],
   "source": [
    "import collections\n",
    "Scientist = collections.namedtuple('Scientist', [\n",
    "    'name',\n",
    "    'field',\n",
    "    'born',\n",
    "    'nobel'\n",
    "])\n",
    "scientists = (\n",
    "    Scientist(name='Ada Lovelace', field='math', born=1815, nobel=False),\n",
    "    Scientist(name='Emmy Noether', field='math', born=1882, nobel=False),\n",
    "    Scientist(name='Marie Curie', field='physics', born=1867, nobel=True),\n",
    "    Scientist(name='Tu Youyou', field='chemistry', born=1930, nobel=True),\n",
    "    Scientist(name='Ada Yonath', field='chemistry', born=1939, nobel=True),\n",
    "    Scientist(name='Vera Rubin', field='astronomy', born=1928, nobel=False),\n",
    "    Scientist(name='Sally Ride', field='physics', born=1951, nobel=False),\n",
    ")\n",
    "from pprint import pprint\n",
    "pprint(scientists)"
   ]
  },
  {
   "cell_type": "code",
   "execution_count": 6,
   "metadata": {},
   "outputs": [
    {
     "data": {
      "text/plain": [
       "({'name': 'Ada Lovelace', 'age': 205},\n",
       " {'name': 'Emmy Noether', 'age': 138},\n",
       " {'name': 'Marie Curie', 'age': 153},\n",
       " {'name': 'Tu Youyou', 'age': 90},\n",
       " {'name': 'Ada Yonath', 'age': 81},\n",
       " {'name': 'Vera Rubin', 'age': 92},\n",
       " {'name': 'Sally Ride', 'age': 69})"
      ]
     },
     "execution_count": 6,
     "metadata": {},
     "output_type": "execute_result"
    }
   ],
   "source": [
    "names_and_ages = tuple(map(\n",
    "    lambda x: {'name': x.name, 'age': 2020 - x.born},\n",
    "    scientists\n",
    "))\n",
    "names_and_ages"
   ]
  },
  {
   "cell_type": "code",
   "execution_count": 4,
   "metadata": {},
   "outputs": [
    {
     "name": "stdout",
     "output_type": "stream",
     "text": [
      "({'age': 202, 'name': 'Ada Lovelace'},\n",
      " {'age': 135, 'name': 'Emmy Noether'},\n",
      " {'age': 150, 'name': 'Marie Curie'},\n",
      " {'age': 87, 'name': 'Tu Youyou'},\n",
      " {'age': 78, 'name': 'Ada Yonath'},\n",
      " {'age': 89, 'name': 'Vera Rubin'},\n",
      " {'age': 66, 'name': 'Sally Ride'})\n"
     ]
    }
   ],
   "source": [
    "from pprint import pprint\n",
    "pprint(names_and_ages)"
   ]
  },
  {
   "cell_type": "code",
   "execution_count": 9,
   "metadata": {},
   "outputs": [
    {
     "name": "stdout",
     "output_type": "stream",
     "text": [
      "({'age': 205, 'name': 'Ada Lovelace'},\n",
      " {'age': 138, 'name': 'Emmy Noether'},\n",
      " {'age': 153, 'name': 'Marie Curie'},\n",
      " {'age': 90, 'name': 'Tu Youyou'},\n",
      " {'age': 81, 'name': 'Ada Yonath'},\n",
      " {'age': 92, 'name': 'Vera Rubin'},\n",
      " {'age': 69, 'name': 'Sally Ride'})\n"
     ]
    }
   ],
   "source": [
    "pprint(tuple({'name': x.name, 'age': 2020 - x.born} for x in scientists))"
   ]
  },
  {
   "cell_type": "code",
   "execution_count": null,
   "metadata": {},
   "outputs": [],
   "source": []
  }
 ],
 "metadata": {
  "kernelspec": {
   "display_name": "Python 3",
   "language": "python",
   "name": "python3"
  },
  "language_info": {
   "codemirror_mode": {
    "name": "ipython",
    "version": 3
   },
   "file_extension": ".py",
   "mimetype": "text/x-python",
   "name": "python",
   "nbconvert_exporter": "python",
   "pygments_lexer": "ipython3",
   "version": "3.7.6"
  }
 },
 "nbformat": 4,
 "nbformat_minor": 4
}
