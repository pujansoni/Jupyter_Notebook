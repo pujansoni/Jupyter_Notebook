{
 "cells": [
  {
   "cell_type": "code",
   "execution_count": 3,
   "metadata": {},
   "outputs": [
    {
     "name": "stdout",
     "output_type": "stream",
     "text": [
      "(Scientist(name='Ada Lovelace', field='math', born=1815, nobel=False),\n",
      " Scientist(name='Emmy Noether', field='math', born=1882, nobel=False),\n",
      " Scientist(name='Marie Curie', field='physics', born=1867, nobel=True),\n",
      " Scientist(name='Tu Youyou', field='chemistry', born=1930, nobel=True),\n",
      " Scientist(name='Ada Yonath', field='chemistry', born=1939, nobel=True),\n",
      " Scientist(name='Vera Rubin', field='astronomy', born=1928, nobel=False),\n",
      " Scientist(name='Sally Ride', field='physics', born=1951, nobel=False))\n"
     ]
    }
   ],
   "source": [
    "import collections\n",
    "Scientist = collections.namedtuple('Scientist', [\n",
    "    'name',\n",
    "    'field',\n",
    "    'born',\n",
    "    'nobel'\n",
    "])\n",
    "scientists = (\n",
    "    Scientist(name='Ada Lovelace', field='math', born=1815, nobel=False),\n",
    "    Scientist(name='Emmy Noether', field='math', born=1882, nobel=False),\n",
    "    Scientist(name='Marie Curie', field='physics', born=1867, nobel=True),\n",
    "    Scientist(name='Tu Youyou', field='chemistry', born=1930, nobel=True),\n",
    "    Scientist(name='Ada Yonath', field='chemistry', born=1939, nobel=True),\n",
    "    Scientist(name='Vera Rubin', field='astronomy', born=1928, nobel=False),\n",
    "    Scientist(name='Sally Ride', field='physics', born=1951, nobel=False),\n",
    ")\n",
    "from pprint import pprint\n",
    "pprint(scientists)"
   ]
  },
  {
   "cell_type": "code",
   "execution_count": 6,
   "metadata": {},
   "outputs": [
    {
     "data": {
      "text/plain": [
       "Scientist(name='Marie Curie', field='physics', born=1867, nobel=True)"
      ]
     },
     "execution_count": 6,
     "metadata": {},
     "output_type": "execute_result"
    }
   ],
   "source": [
    "fs = filter(lambda x: x.nobel is True, scientists)\n",
    "next(fs)"
   ]
  },
  {
   "cell_type": "code",
   "execution_count": 7,
   "metadata": {},
   "outputs": [
    {
     "data": {
      "text/plain": [
       "Scientist(name='Tu Youyou', field='chemistry', born=1930, nobel=True)"
      ]
     },
     "execution_count": 7,
     "metadata": {},
     "output_type": "execute_result"
    }
   ],
   "source": [
    "next(fs)"
   ]
  },
  {
   "cell_type": "code",
   "execution_count": 8,
   "metadata": {},
   "outputs": [
    {
     "data": {
      "text/plain": [
       "Scientist(name='Ada Yonath', field='chemistry', born=1939, nobel=True)"
      ]
     },
     "execution_count": 8,
     "metadata": {},
     "output_type": "execute_result"
    }
   ],
   "source": [
    "next(fs)"
   ]
  },
  {
   "cell_type": "code",
   "execution_count": 9,
   "metadata": {},
   "outputs": [
    {
     "ename": "StopIteration",
     "evalue": "",
     "output_type": "error",
     "traceback": [
      "\u001b[1;31m---------------------------------------------------------------------------\u001b[0m",
      "\u001b[1;31mStopIteration\u001b[0m                             Traceback (most recent call last)",
      "\u001b[1;32m<ipython-input-9-cc337a681289>\u001b[0m in \u001b[0;36m<module>\u001b[1;34m\u001b[0m\n\u001b[1;32m----> 1\u001b[1;33m \u001b[0mnext\u001b[0m\u001b[1;33m(\u001b[0m\u001b[0mfs\u001b[0m\u001b[1;33m)\u001b[0m\u001b[1;33m\u001b[0m\u001b[1;33m\u001b[0m\u001b[0m\n\u001b[0m",
      "\u001b[1;31mStopIteration\u001b[0m: "
     ]
    }
   ],
   "source": [
    "next(fs)"
   ]
  },
  {
   "cell_type": "code",
   "execution_count": 12,
   "metadata": {},
   "outputs": [
    {
     "name": "stdout",
     "output_type": "stream",
     "text": [
      "(Scientist(name='Marie Curie', field='physics', born=1867, nobel=True),\n",
      " Scientist(name='Tu Youyou', field='chemistry', born=1930, nobel=True),\n",
      " Scientist(name='Ada Yonath', field='chemistry', born=1939, nobel=True))\n"
     ]
    }
   ],
   "source": [
    "fs = tuple(filter(lambda x: x.nobel is True, scientists))\n",
    "pprint(fs)"
   ]
  },
  {
   "cell_type": "code",
   "execution_count": 13,
   "metadata": {},
   "outputs": [
    {
     "name": "stdout",
     "output_type": "stream",
     "text": [
      "(Scientist(name='Marie Curie', field='physics', born=1867, nobel=True),\n",
      " Scientist(name='Sally Ride', field='physics', born=1951, nobel=False))\n"
     ]
    }
   ],
   "source": [
    "pprint(tuple(filter(lambda x: x.field == 'physics', scientists)))"
   ]
  },
  {
   "cell_type": "code",
   "execution_count": 14,
   "metadata": {},
   "outputs": [
    {
     "name": "stdout",
     "output_type": "stream",
     "text": [
      "(Scientist(name='Marie Curie', field='physics', born=1867, nobel=True),)\n"
     ]
    }
   ],
   "source": [
    "pprint(tuple(filter(lambda x: x.field == 'physics' and x.nobel, scientists)))"
   ]
  },
  {
   "cell_type": "code",
   "execution_count": 15,
   "metadata": {},
   "outputs": [
    {
     "name": "stdout",
     "output_type": "stream",
     "text": [
      "(Scientist(name='Marie Curie', field='physics', born=1867, nobel=True),\n",
      " Scientist(name='Tu Youyou', field='chemistry', born=1930, nobel=True),\n",
      " Scientist(name='Ada Yonath', field='chemistry', born=1939, nobel=True))\n"
     ]
    }
   ],
   "source": [
    "def nobel_filter(x):\n",
    "    return x.nobel is True\n",
    "\n",
    "pprint(tuple(filter(nobel_filter, scientists)))"
   ]
  },
  {
   "cell_type": "code",
   "execution_count": 16,
   "metadata": {},
   "outputs": [
    {
     "data": {
      "text/plain": [
       "[Scientist(name='Marie Curie', field='physics', born=1867, nobel=True),\n",
       " Scientist(name='Tu Youyou', field='chemistry', born=1930, nobel=True),\n",
       " Scientist(name='Ada Yonath', field='chemistry', born=1939, nobel=True)]"
      ]
     },
     "execution_count": 16,
     "metadata": {},
     "output_type": "execute_result"
    }
   ],
   "source": [
    "[x for x in scientists if x.nobel is True]"
   ]
  },
  {
   "cell_type": "code",
   "execution_count": 17,
   "metadata": {},
   "outputs": [
    {
     "name": "stdout",
     "output_type": "stream",
     "text": [
      "[Scientist(name='Marie Curie', field='physics', born=1867, nobel=True),\n",
      " Scientist(name='Tu Youyou', field='chemistry', born=1930, nobel=True),\n",
      " Scientist(name='Ada Yonath', field='chemistry', born=1939, nobel=True)]\n"
     ]
    }
   ],
   "source": [
    "pprint([x for x in scientists if x.nobel is True])"
   ]
  },
  {
   "cell_type": "code",
   "execution_count": 19,
   "metadata": {},
   "outputs": [
    {
     "name": "stdout",
     "output_type": "stream",
     "text": [
      "(Scientist(name='Marie Curie', field='physics', born=1867, nobel=True),\n",
      " Scientist(name='Tu Youyou', field='chemistry', born=1930, nobel=True),\n",
      " Scientist(name='Ada Yonath', field='chemistry', born=1939, nobel=True))\n"
     ]
    }
   ],
   "source": [
    "pprint(tuple(x for x in scientists if x.nobel is True))"
   ]
  },
  {
   "cell_type": "code",
   "execution_count": null,
   "metadata": {},
   "outputs": [],
   "source": []
  }
 ],
 "metadata": {
  "kernelspec": {
   "display_name": "Python 3",
   "language": "python",
   "name": "python3"
  },
  "language_info": {
   "codemirror_mode": {
    "name": "ipython",
    "version": 3
   },
   "file_extension": ".py",
   "mimetype": "text/x-python",
   "name": "python",
   "nbconvert_exporter": "python",
   "pygments_lexer": "ipython3",
   "version": "3.7.6"
  }
 },
 "nbformat": 4,
 "nbformat_minor": 4
}
