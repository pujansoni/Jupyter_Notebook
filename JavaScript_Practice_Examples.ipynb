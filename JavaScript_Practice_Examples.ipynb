{
 "cells": [
  {
   "cell_type": "code",
   "execution_count": 15,
   "metadata": {},
   "outputs": [
    {
     "name": "stdout",
     "output_type": "stream",
     "text": [
      "Hello\n"
     ]
    }
   ],
   "source": [
    "/* Longest String in an Array\n",
    "    Write a function that accepts an array of strings. Return the longest string\n",
    "    For this problem we need to:\n",
    "    1) Initialize and Declare Variable for Longest String\n",
    "    2) Loop through the array\n",
    "    3) Find the length of each string\n",
    "    4) Determine if that length is the largest we have seen so far\n",
    "    5) Replace the longest/largest variable with the arr[index] as long as length is greater than variable\n",
    "    6) Return the longest/largest string\n",
    "*/\n",
    "//ES 5 Syntax Possible Solution:\n",
    "function longestString1(arr) {\n",
    "    var longest = ''; // Step 0\n",
    "    for (var i = 0; i < arr.length; i++) { // Step 1\n",
    "        if (arr[i].length > longest.length) { // Step 2 & 3\n",
    "            longest = arr[i]; // Step 4\n",
    "        }\n",
    "    }\n",
    "    return longest; // Step 5\n",
    "}\n",
    "\n",
    "//ES 6 Syntax Possible Solution:\n",
    "// let longestString2 = (arr) => {\n",
    "//     let longest1 = ''; // Step 0\n",
    "//     arr.forEach((item) => { // Step 1\n",
    "//         if(item.length > longest1.length) {\n",
    "//             longest1 = item;\n",
    "//         }\n",
    "//     });\n",
    "//     return longest1; // Step 5\n",
    "// };\n",
    "\n",
    "console.log(longestString1(['Hello', 'how', 'are', 'you']));"
   ]
  },
  {
   "cell_type": "code",
   "execution_count": 16,
   "metadata": {},
   "outputs": [
    {
     "name": "stdout",
     "output_type": "stream",
     "text": [
      "p\n"
     ]
    }
   ],
   "source": [
    "/*\n",
    "    Most commonly used character in the string\n",
    "    Write a function that takes a string and returns the character that is most commonly used in the string\n",
    "    To find the character most often used in a string we need to be able to count how many pairs of each kind we have. We can do this using an object that has key-value pairs\n",
    "    1) Define and initialize an object\n",
    "    2) Map character count to that object\n",
    "    3) Loop through the object to find the max count\n",
    "    4) Assign the new max count value to maxCharCount and new max key to maxChar\n",
    "    5) return maxChar\n",
    "*/\n",
    "const countingChars = (str) => {\n",
    "    const charCount = {};\n",
    "    let maxCharCount = 0;\n",
    "    let maxChar = '';\n",
    "    for(let i = 0; i < str.length; i++){\n",
    "        charCount[str[i]] = ++charCount[str[i]] || 1;\n",
    "    }\n",
    "    \n",
    "    for(let key in charCount){\n",
    "        if(charCount[key] >= maxCharCount){\n",
    "            maxCharCount = charCount[key];\n",
    "            maxChar = key;\n",
    "        }\n",
    "    }\n",
    "    \n",
    "    return maxChar;\n",
    "}\n",
    "\n",
    "console.log(countingChars('apple'));"
   ]
  },
  {
   "cell_type": "code",
   "execution_count": 17,
   "metadata": {},
   "outputs": [
    {
     "name": "stdout",
     "output_type": "stream",
     "text": [
      "true\n"
     ]
    }
   ],
   "source": [
    "/*\n",
    "    Two strings are anagrams of each other\n",
    "    Create a function that takes in two strings as two parameters and returns a boolean that indicates whether or not the first string is an anagram of the second string\n",
    "    An anagram is another word or phrase formed by rearranging letters of the first word or phrase\n",
    "    If an anagram is just a bunch of letters jumbled around, we can see if the strings are anagrams of each other by:\n",
    "    a) Comparing the length: if they are not same length, they are not an anagram of the other\n",
    "    b) Sorting the string and using an equality operator to see if it’s equal\n",
    "*/\n",
    "\n",
    "const anagramCheck = (str1, str2) => {\n",
    "    if(str1.length !== str2.length){\n",
    "        return false;\n",
    "    }\n",
    "    let str1Sort = str1.split('').sort();\n",
    "    let str2Sort = str2.split('').sort();\n",
    "    return str1Sort.join('') === str2Sort.join('');\n",
    "}\n",
    "\n",
    "console.log(anagramCheck('silent', 'lentsi'));"
   ]
  },
  {
   "cell_type": "code",
   "execution_count": 18,
   "metadata": {},
   "outputs": [
    {
     "name": "stdout",
     "output_type": "stream",
     "text": [
      "true\n"
     ]
    }
   ],
   "source": [
    "/*\n",
    "    Palindrome Check\n",
    "    Given a string, write a function that will return whether or not that string is a palindrome\n",
    "    To achieve this we will need to:\n",
    "    1) Reverse the string. We need to keep the old reference to the string to use later. To do this, we need to split into an array\n",
    "    2) Reverse the string\n",
    "    3) Join the string\n",
    "    4) See if new variation of the string is equal to the old variation of the string\n",
    "*/\n",
    "const palindrome = (str) => {\n",
    "    let trimmed = str.replace(/[^\\w]/g, \"\");\n",
    "    return trimmed === trimmed.split('').reverse().join(''); // Steps 1-4\n",
    "}\n",
    "\n",
    "console.log(palindrome('racecar'));"
   ]
  },
  {
   "cell_type": "code",
   "execution_count": 19,
   "metadata": {},
   "outputs": [
    {
     "name": "stdout",
     "output_type": "stream",
     "text": [
      "true\n"
     ]
    }
   ],
   "source": [
    "/*\n",
    "    Balanced Brackets:\n",
    "    Given a string possibly containing three types of braces ({}, [], ()), write a function that returns a Boolean indicating whether the given string contains a valid nesting of braces\n",
    "    To achieve this we will need to:\n",
    "    1) Because we are looking for nested balanced brackets, we are looking to use a data structure to store the open brackets we have seen so far\n",
    "    2) As we come to a closing bracket, we need to look to see if the last bracket added to the data structure matches the opposite of the current bracket\n",
    "    3) If your data structure is empty by the time we get to the end of the string, we have balanced brackets\n",
    "*/\n",
    "const balancedBracket = (str) => {\n",
    "    const stack = [];\n",
    "    let openers = ['{', '[', '('];\n",
    "    let closers = ['}', ']', ')'];\n",
    "    \n",
    "    const dict = {\n",
    "        \"{\": \"}\",\n",
    "        \"[\": \"]\",\n",
    "        \"(\": \")\"\n",
    "    }\n",
    "    \n",
    "    for(let i = 0; i < str.length; i++){\n",
    "        let char = str[i];\n",
    "        if(openers.includes(char)){\n",
    "            stack.push(char);\n",
    "        } else if(closers.includes(char)){\n",
    "            //is our stack empty\n",
    "            if(!stack.length){\n",
    "                return false;\n",
    "            }\n",
    "            \n",
    "            //does our popped up element not match the corresponding element?\n",
    "            else if(dict[stack.pop()] !== char){\n",
    "                return false;\n",
    "            }\n",
    "        }\n",
    "    }\n",
    "    \n",
    "    return stack.length == 0;\n",
    "}\n",
    "\n",
    "console.log(balancedBracket(\"Hello{how(are[you])}\"));"
   ]
  },
  {
   "cell_type": "code",
   "execution_count": 20,
   "metadata": {},
   "outputs": [
    {
     "name": "stdout",
     "output_type": "stream",
     "text": [
      "true\n"
     ]
    }
   ],
   "source": [
    "/*\n",
    "    Armstrong Numbers: An Armstrong number is an n-digit number that is equal to the sum of the nthnth powers of its digits. Determine if the input number is an Armstrong number. Return either true or false\n",
    "    Remember that in JavaScript type coercion exists. When working with Numbers is JS, remember to check the typeof the number. If it is a string, you’ll need to plan for that. This is really important when working with math in JS\n",
    "*/\n",
    "function isArmstrongNumber(n){\n",
    "    let strN = n + '';\n",
    "    let power = strN.length;\n",
    "    let sum = 0;\n",
    "    for(let i = 0; i < strN.length; i++){\n",
    "        sum += Math.pow(Number(strN[i]), power);\n",
    "    }\n",
    "    return sum === n;\n",
    "}\n",
    "    \n",
    "console.log(isArmstrongNumber(153));"
   ]
  },
  {
   "cell_type": "code",
   "execution_count": 3,
   "metadata": {},
   "outputs": [
    {
     "name": "stdout",
     "output_type": "stream",
     "text": [
      "[ 1, 11, 27, 2, 34, 123 ]\n"
     ]
    }
   ],
   "source": [
    "/*\n",
    "    Sorting Objects: \n",
    "    What’s interesting about this particular method is that in JavaScript, if you don’t use a callback compare function to sort the array of objects, the default sort method is used to sort by characters rather than number\n",
    "    We need to use a compare function as a callback passed into the sort method to make sure that the actual numbers are treated properly\n",
    "*/\n",
    "function sortObjects(arr) {\n",
    "    return arr.sort((a, b) => (a.population > b.population) ? 1 : -1);\n",
    "}\n",
    "\n",
    "console.log(sortObjects([1, 11, 27, 2, 34, 123]));"
   ]
  },
  {
   "cell_type": "code",
   "execution_count": null,
   "metadata": {},
   "outputs": [],
   "source": []
  }
 ],
 "metadata": {
  "kernelspec": {
   "display_name": "Javascript (Node.js)",
   "language": "javascript",
   "name": "javascript"
  },
  "language_info": {
   "file_extension": ".js",
   "mimetype": "application/javascript",
   "name": "javascript",
   "version": "10.13.0"
  }
 },
 "nbformat": 4,
 "nbformat_minor": 4
}
